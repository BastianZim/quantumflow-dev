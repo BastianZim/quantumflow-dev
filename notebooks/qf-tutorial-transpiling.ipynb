{
  "nbformat": 4,
  "nbformat_minor": 0,
  "metadata": {
    "colab": {
      "name": "qf-example-translate.ipynb",
      "provenance": [],
      "collapsed_sections": [],
      "authorship_tag": "ABX9TyOzFa4H39w7Qahv2cVdU9z2",
      "include_colab_link": true
    },
    "kernelspec": {
      "name": "python3",
      "display_name": "Python 3"
    },
    "language_info": {
      "name": "python"
    }
  },
  "cells": [
    {
      "cell_type": "markdown",
      "metadata": {
        "id": "view-in-github",
        "colab_type": "text"
      },
      "source": [
        "<a href=\"https://colab.research.google.com/github/gecrooks/quantumflow-dev/blob/colab/notebooks/qf-tutorial-transpiling.ipynb\" target=\"_parent\"><img src=\"https://colab.research.google.com/assets/colab-badge.svg\" alt=\"Open In Colab\"/></a>"
      ]
    },
    {
      "cell_type": "markdown",
      "metadata": {
        "id": "zEYEt6mowqNl"
      },
      "source": [
        "# QuantumFlow Tutorial: Transpiling"
      ]
    },
    {
      "cell_type": "markdown",
      "metadata": {
        "id": "1BFW58kYsOpA"
      },
      "source": [
        "[link text](https:// [link text](https://))[QuantumFlow](https://https://github.com/gecrooks/quantumflow-dev) can convert circuits between a number of popular quantum libraries, such as `qiskit`, `braket`, and `cirq`. These additional libaries can be installed with the `[ext]` or `[dev]` options, e.g. `pip install quantumflow[ext]`"
      ]
    },
    {
      "cell_type": "code",
      "metadata": {
        "id": "fDQE3APeC0tU",
        "colab": {
          "base_uri": "https://localhost:8080/"
        },
        "outputId": "9fdbd6b9-f53a-471e-c0c9-082b7d2ff3b0"
      },
      "source": [
        "!pip install -qqq git+https://github.com/gecrooks/quantumflow.git#egg=quantumflow[ext]"
      ],
      "execution_count": 11,
      "outputs": [
        {
          "output_type": "stream",
          "name": "stdout",
          "text": [
            "  Installing build dependencies ... \u001b[?25l\u001b[?25hdone\n",
            "  Getting requirements to build wheel ... \u001b[?25l\u001b[?25hdone\n",
            "    Preparing wheel metadata ... \u001b[?25l\u001b[?25hdone\n"
          ]
        }
      ]
    },
    {
      "cell_type": "markdown",
      "metadata": {
        "id": "fUZYiTJ3LdRX"
      },
      "source": [
        "Let's built a simple quantum circuit to make a 5 qubit Bell state using IBM's `qiskit`."
      ]
    },
    {
      "cell_type": "code",
      "metadata": {
        "colab": {
          "base_uri": "https://localhost:8080/"
        },
        "id": "k1_BE9ATsDqi",
        "outputId": "da9be853-d487-4da0-f1fa-33132d5d7b3b"
      },
      "source": [
        "import qiskit\n",
        "qr = qiskit.QuantumRegister(5)\n",
        "qiskit_circuit = qiskit.QuantumCircuit(qr)\n",
        "qiskit_circuit.h(qr[0])\n",
        "qiskit_circuit.cx(qr[0], qr[1])\n",
        "qiskit_circuit.cx(qr[1], qr[2])\n",
        "qiskit_circuit.cx(qr[2], qr[3])\n",
        "qiskit_circuit.cx(qr[3], qr[4])\n",
        "print(qiskit_circuit)\n"
      ],
      "execution_count": 12,
      "outputs": [
        {
          "output_type": "stream",
          "name": "stdout",
          "text": [
            "      ┌───┐                    \n",
            "q1_0: ┤ H ├──■─────────────────\n",
            "      └───┘┌─┴─┐               \n",
            "q1_1: ─────┤ X ├──■────────────\n",
            "           └───┘┌─┴─┐          \n",
            "q1_2: ──────────┤ X ├──■───────\n",
            "                └───┘┌─┴─┐     \n",
            "q1_3: ───────────────┤ X ├──■──\n",
            "                     └───┘┌─┴─┐\n",
            "q1_4: ────────────────────┤ X ├\n",
            "                          └───┘\n"
          ]
        }
      ]
    },
    {
      "cell_type": "markdown",
      "metadata": {
        "id": "r1SjOHsULjib"
      },
      "source": [
        "We can then convert this `qiskit` circuit to native `quantumflow`,"
      ]
    },
    {
      "cell_type": "code",
      "metadata": {
        "id": "aJ10xHQwQqpf",
        "colab": {
          "base_uri": "https://localhost:8080/",
          "height": 130
        },
        "outputId": "64a172c1-d791-4558-f146-40c9ca9c0d50"
      },
      "source": [
        "import quantumflow as qf\n",
        "qf_circuit = qf.transpile(qiskit_circuit)\n",
        "qf_circuit"
      ],
      "execution_count": 13,
      "outputs": [
        {
          "output_type": "execute_result",
          "data": {
            "text/html": [
              "<pre style=\"line-height: 90%\">0: ───H───●───────────────\n",
              "          │               \n",
              "1: ───────X───●───────────\n",
              "              │           \n",
              "2: ───────────X───●───────\n",
              "                  │       \n",
              "3: ───────────────X───●───\n",
              "                      │   \n",
              "4: ───────────────────X───\n",
              "</pre>"
            ],
            "text/plain": [
              "<quantumflow.circuits.Circuit at 0x7f5ccf041890>"
            ]
          },
          "metadata": {},
          "execution_count": 13
        }
      ]
    },
    {
      "cell_type": "markdown",
      "metadata": {
        "id": "9CNwk7OyLqD0"
      },
      "source": [
        "or to Google's `cirq`,"
      ]
    },
    {
      "cell_type": "code",
      "metadata": {
        "id": "gwr77x22Qqdi",
        "colab": {
          "base_uri": "https://localhost:8080/",
          "height": 173
        },
        "outputId": "cb3b4889-0742-4bb9-a48c-7c476451b6a5"
      },
      "source": [
        "cirq_circuit = qf.transpile(qiskit_circuit, output_format=\"cirq\")\n",
        "cirq_circuit"
      ],
      "execution_count": 14,
      "outputs": [
        {
          "output_type": "execute_result",
          "data": {
            "text/html": [
              "<pre style=\"overflow: auto; white-space: pre;\">0: ───H───@───────────────\n",
              "          │\n",
              "1: ───────X───@───────────\n",
              "              │\n",
              "2: ───────────X───@───────\n",
              "                  │\n",
              "3: ───────────────X───@───\n",
              "                      │\n",
              "4: ───────────────────X───</pre>"
            ],
            "text/plain": [
              "0: ───H───@───────────────\n",
              "          │\n",
              "1: ───────X───@───────────\n",
              "              │\n",
              "2: ───────────X───@───────\n",
              "                  │\n",
              "3: ───────────────X───@───\n",
              "                      │\n",
              "4: ───────────────────X───"
            ]
          },
          "metadata": {},
          "execution_count": 14
        }
      ]
    },
    {
      "cell_type": "markdown",
      "metadata": {
        "id": "Zzf1nMj6LtgH"
      },
      "source": [
        "or Amazon's `braket`."
      ]
    },
    {
      "cell_type": "code",
      "metadata": {
        "id": "QbMemDfhQqE3",
        "colab": {
          "base_uri": "https://localhost:8080/"
        },
        "outputId": "f7c0a87f-fe61-4c52-d726-9303f00231df"
      },
      "source": [
        "braket_circuit = qf.transpile(qiskit_circuit, output_format=\"braket\")\n",
        "print(braket_circuit)"
      ],
      "execution_count": 15,
      "outputs": [
        {
          "output_type": "stream",
          "name": "stdout",
          "text": [
            "T  : |0|1|2|3|4|\n",
            "                \n",
            "q0 : -H-C-------\n",
            "        |       \n",
            "q1 : ---X-C-----\n",
            "          |     \n",
            "q2 : -----X-C---\n",
            "            |   \n",
            "q3 : -------X-C-\n",
            "              | \n",
            "q4 : ---------X-\n",
            "\n",
            "T  : |0|1|2|3|4|\n"
          ]
        }
      ]
    },
    {
      "cell_type": "markdown",
      "metadata": {
        "id": "R6WXcmQVL1Nb"
      },
      "source": [
        "We can also transpile to `quirk`. Click on the link below to load the circuit in the web editor."
      ]
    },
    {
      "cell_type": "code",
      "metadata": {
        "id": "n336uzkvRKOR",
        "colab": {
          "base_uri": "https://localhost:8080/"
        },
        "outputId": "a6d941a9-f780-47cb-a7e9-7c94fbe56f83"
      },
      "source": [
        "quirk_circuit = qf.transpile(qiskit_circuit, output_format=\"quirk\")\n",
        "print(quirk_circuit)"
      ],
      "execution_count": 16,
      "outputs": [
        {
          "output_type": "stream",
          "name": "stdout",
          "text": [
            "{\"cols\":[[\"H\"],[\"•\",\"X\"],[1,\"•\",\"X\"],[1,1,\"•\",\"X\"],[1,1,1,\"•\",\"X\"]]}\n"
          ]
        }
      ]
    },
    {
      "cell_type": "code",
      "metadata": {
        "id": "KqlhwjdORKLT",
        "colab": {
          "base_uri": "https://localhost:8080/"
        },
        "outputId": "90e78ec0-40b4-4e00-c84a-43de46a2b565"
      },
      "source": [
        "from quantumflow import xquirk\n",
        "print(xquirk.quirk_url(quirk_circuit, escape=\"True\"))"
      ],
      "execution_count": 17,
      "outputs": [
        {
          "output_type": "stream",
          "name": "stdout",
          "text": [
            "https://algassert.com/quirk#circuit=%7B%22cols%22%3A%5B%5B%22H%22%5D%2C%5B%22%E2%80%A2%22%2C%22X%22%5D%2C%5B1%2C%22%E2%80%A2%22%2C%22X%22%5D%2C%5B1%2C1%2C%22%E2%80%A2%22%2C%22X%22%5D%2C%5B1%2C1%2C1%2C%22%E2%80%A2%22%2C%22X%22%5D%5D%7D\n"
          ]
        }
      ]
    },
    {
      "cell_type": "markdown",
      "metadata": {
        "id": "j6B-XoTaNSNH"
      },
      "source": [
        "There are a couple of complications to transpiling circuits between libraries. The first problem is the labelling of qubits. QuantumFlow allows a wide variety of labels, including integers, strings, and tuples of integers or strings. In general any hashable, sortable python type. (But you shouldn't mix qubit label types in the same circuit.) However, other libraries are less flexible. Your best bet is to stick to non-negative integers.\n",
        "\n",
        "The second complication is that different quantum libraries implement different sets of quantum gates. For instance, lets add a controlled-Hadamard gate to our initial qiskit circuit,"
      ]
    },
    {
      "cell_type": "code",
      "metadata": {
        "id": "zyVnlpF0NR_e",
        "colab": {
          "base_uri": "https://localhost:8080/"
        },
        "outputId": "f4698bdb-9f5f-4389-d690-64e512c6a477"
      },
      "source": [
        "qiskit_circuit.ch(qr[3], qr[4])\n",
        "print(qiskit_circuit)"
      ],
      "execution_count": 18,
      "outputs": [
        {
          "output_type": "stream",
          "name": "stdout",
          "text": [
            "      ┌───┐                         \n",
            "q1_0: ┤ H ├──■──────────────────────\n",
            "      └───┘┌─┴─┐                    \n",
            "q1_1: ─────┤ X ├──■─────────────────\n",
            "           └───┘┌─┴─┐               \n",
            "q1_2: ──────────┤ X ├──■────────────\n",
            "                └───┘┌─┴─┐          \n",
            "q1_3: ───────────────┤ X ├──■────■──\n",
            "                     └───┘┌─┴─┐┌─┴─┐\n",
            "q1_4: ────────────────────┤ X ├┤ H ├\n",
            "                          └───┘└───┘\n"
          ]
        }
      ]
    },
    {
      "cell_type": "markdown",
      "metadata": {
        "id": "uskxicrQOZE5"
      },
      "source": [
        "and then transpile to `cirq`."
      ]
    },
    {
      "cell_type": "code",
      "metadata": {
        "id": "dd5gLCFXOfYG",
        "colab": {
          "base_uri": "https://localhost:8080/",
          "height": 173
        },
        "outputId": "d5387baf-0fb4-4f92-edd3-2bb6059c3c6e"
      },
      "source": [
        "cirq_circuit = qf.transpile(qiskit_circuit, output_format=\"cirq\")\n",
        "cirq_circuit"
      ],
      "execution_count": 19,
      "outputs": [
        {
          "output_type": "execute_result",
          "data": {
            "text/html": [
              "<pre style=\"overflow: auto; white-space: pre;\">0: ───H───@─────────────────────────────────────────────────\n",
              "          │\n",
              "1: ───────X───@─────────────────────────────────────────────\n",
              "              │\n",
              "2: ───────────X───@─────────────────────────────────────────\n",
              "                  │\n",
              "3: ───────────────X───@───────────────@─────────────────────\n",
              "                      │               │\n",
              "4: ───────────────────X───S───H───T───X───T^-1───H───S^-1───</pre>"
            ],
            "text/plain": [
              "0: ───H───@─────────────────────────────────────────────────\n",
              "          │\n",
              "1: ───────X───@─────────────────────────────────────────────\n",
              "              │\n",
              "2: ───────────X───@─────────────────────────────────────────\n",
              "                  │\n",
              "3: ───────────────X───@───────────────@─────────────────────\n",
              "                      │               │\n",
              "4: ───────────────────X───S───H───T───X───T^-1───H───S^-1───"
            ]
          },
          "metadata": {},
          "execution_count": 19
        }
      ]
    },
    {
      "cell_type": "markdown",
      "metadata": {
        "id": "6j_lkrm2Otev"
      },
      "source": [
        "Google's `cirq` does not implement the controlled-Hadamard gate (CH), so QuantumFlow translates the CH gate into an equivalant sequence of gates that `cirq` does understand.\n",
        "\n",
        "QuantumFlow contains a rich set of gates, so that transpiling to QF is generally a direct literal gate-for-gate translation.\n",
        "\n",
        "The collection of currently supported transpiled formats can be found in `qf.TRANSPILE_FORMATS`."
      ]
    },
    {
      "cell_type": "code",
      "metadata": {
        "id": "M4N2znjoOtLS",
        "colab": {
          "base_uri": "https://localhost:8080/"
        },
        "outputId": "45e27acd-e38a-469e-97f6-ce06c7191ca5"
      },
      "source": [
        "qf.TRANSPILE_FORMATS"
      ],
      "execution_count": 20,
      "outputs": [
        {
          "output_type": "execute_result",
          "data": {
            "text/plain": [
              "('qasm',\n",
              " 'cirq',\n",
              " 'braket',\n",
              " 'pyquil',\n",
              " 'qiskit',\n",
              " 'quirk',\n",
              " 'qsim',\n",
              " 'quantumflow',\n",
              " 'qutip')"
            ]
          },
          "metadata": {},
          "execution_count": 20
        }
      ]
    }
  ]
}